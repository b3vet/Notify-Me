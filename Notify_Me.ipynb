{
  "nbformat": 4,
  "nbformat_minor": 0,
  "metadata": {
    "colab": {
      "name": "Notify Me.ipynb",
      "provenance": [],
      "collapsed_sections": []
    },
    "kernelspec": {
      "name": "python3",
      "display_name": "Python 3"
    }
  },
  "cells": [
    {
      "cell_type": "markdown",
      "metadata": {
        "id": "BFLEvPqGuQzE"
      },
      "source": [
        "1) OPEN TELEGRAM APP\n",
        "\n",
        "2) SEARCH BotFather\n",
        "\n",
        "3) TYPE \"/newbot\" WITHOUT QUOTATION MARKS\n",
        "\n",
        "4) GIVE A NAME TO YOUR BOT\n",
        "\n",
        "5) IT WILL GIVE YOU A TOKEN YOU WILL NEED IT SAVE IT\n",
        "\n",
        "6) RUN THE FIRST CODE BLOCK\n",
        "\n",
        "7) IT WILL ASK FOR A TOKEN, IT IS THE ONE YOU JUST GOT, ENTER IT, IT WILL GIVE YOU A PASSWORD AFTER THAT\n",
        "\n",
        "8) AFTER ENTERING THE TOKEN, GO TO TELEGRAM AGAIN AND SEARCH FOR THE NAME OF YOUR BOT (LINKS DO NOT WORK IF YOU DO NOT HAVE TELEGRAM APP INSTALLED ON YOUR PC)\n",
        "\n",
        "9) START CHAT WITH YOUR BOT AND SEND THE GIVEN PASSWORD AS A MESSAGE"
      ]
    },
    {
      "cell_type": "code",
      "metadata": {
        "id": "8ZH5xd-5h9PL"
      },
      "source": [
        "#HI I AM THE FIRST CODE BLOCK (MIGHT NEED TO RUN TWICE)\n",
        "!telegram-send --configure\n",
        "!pip install telegram-send\n",
        "\n",
        "import telegram_send\n",
        "telegram_send.send(messages=[\"Wow that was easy!\"])"
      ],
      "execution_count": null,
      "outputs": []
    },
    {
      "cell_type": "markdown",
      "metadata": {
        "id": "GgnvMkOwv0mx"
      },
      "source": [
        "10) NOW GO TO THIS LINK BUT COPY AND PASTE YOUR BOT TOKEN IN PLACE OF \n",
        "\"-YOURBOTTOKEN-\" (THERE SHOULD NOT BE ANY HYPENS AFTER PASTING) https://api.telegram.org/bot-YOURBOTTOKEN-/getUpdates\n",
        "\n",
        "11) IT IS BASICLY A JSON FILE. THERE WILL BE SOMETHING LIKE \"chat\": {\"id\": somenumbers, .... COPY THAT SOME NUMBERS THAT IS YOUR CHAT ID WITH YOUR BOT\n",
        "\n",
        "12)COPY AND PASTE THE REQUIRED VALUES IN THE REQUIRED PLACES IN THE SECOND CODE BLOCK AND RUN IT"
      ]
    },
    {
      "cell_type": "code",
      "metadata": {
        "id": "tyLvaKenkAXy"
      },
      "source": [
        "#I AM SECOND CODE BLOCK\n",
        "import telegram_send\n",
        "telegram_token = '' #COPY AND PASTE YOUR TOKEN IN HERE\n",
        "chat_id = '' #COPY AND PASTE YOUR CHAT ID HERE\n",
        "path_config = telegram_send.get_config_path()\n",
        "with open(path_config, 'w') as f:\n",
        "    f.write(f'[telegram]\\ntoken = {telegram_token}\\nchat_id = {chat_id}')\n",
        "telegram_send.send(messages=[\"Telegram bot synced!\"])"
      ],
      "execution_count": null,
      "outputs": []
    },
    {
      "cell_type": "markdown",
      "metadata": {
        "id": "E494EsUdw8Hr"
      },
      "source": [
        "(STEPS 13 AND 14 ARE TO DETECT CHANGES IN REMAINING SEAT VALUES OF SABANCI UNIVERSITY COURSES IN ADD/DROP PERIOD. IF WANT TO USE IT FOR ANY OTHER WEBSITE, JUST COPY THE LINK AND PASTE IT INTO THE DESCRIBED PLACE)\n",
        "\n",
        "13) GO TO SUCHEDULE AND GET THE DETAILED VIEW PAGE OF YOUR COURSE (BY CLICKING INFO BUTTON ON THE LEFT COURSE CHOOSING PANEL)\n",
        "\n",
        "14)COPY THE LINK OF THAT DETAILED VIEW PAGE (THE ONLY THING THAT CHANGES WHEN THERE IS AN EMPTY SPACE IN COURSE IS REMAINING AND ACTUAL VALUES)\n",
        "\n",
        "THIS SCRIPT READS THE WHOLE PAGE AND CREATES A HASH VALUE FOR IT IN EVERY 8 SECONDS AND CHECKS IF THE LAST HASHED VALUE IS EQUAL TO THE NEW ONE (SINCE IT READS A STATIC HTML TO HASH IF REMAINING AND ACTUAL VALUES CHANGE, THE STATIC HTML FILE THE SCRIPT WILL READ WILL CHANGE), IF NOT IT WILL SEND YOU A MESSAGE FROM TELEGRAM THAT THERE IS A CHANGE\n",
        "\n",
        "15)PASTE YOUR DETAILED VIEW LINK IN THE THIRD CODE BLOCK WHERE IT SAYS PASTE STUFF HERE\n",
        "\n",
        "16) RUN THE THIRD CODE BLOCK AND DO NOT LET YOUR COMPUTER SLEEP\n",
        "\n",
        "NOW YOU CAN GO ANYWHERE YOU WANT WHILE THE CODE IS RUNNING AND YOU WILL BE NOTIFIED WHENEVER THERE IS A CHANGE IN THE WEBSITE YOU PROVIDED"
      ]
    },
    {
      "cell_type": "code",
      "metadata": {
        "id": "4HhTki6mjoh9"
      },
      "source": [
        "# -*- coding: utf-8 -*-\n",
        "#THIRD CODE BLOCK\n",
        "import time \n",
        "import hashlib \n",
        "from urllib.request import urlopen, Request\n",
        "\n",
        "################################ READ THIS TO PASTE STUFF HERE #####################################################\n",
        "#PASTE THE LINK YOU WANT TO TRACK IN THE EMPTY SPACE BETWEEN '' IN URLTOPASTE = '' DOWN BELOW\n",
        "####################################################################################################################\n",
        "URLTOPASTE = '' ##PASTE YOUR LINK HERE IN BETWEEN ''\n",
        "url = Request(URLTOPASTE,  \n",
        "              headers={'User-Agent': 'Mozilla/5.0'}) \n",
        "response = urlopen(url).read() \n",
        "currentHash = hashlib.sha224(response).hexdigest() \n",
        "print(\"running\") \n",
        "time.sleep(8)\n",
        "i = 0;\n",
        "while True: \n",
        "    try: \n",
        "        response = urlopen(url).read() \n",
        "        currentHash = hashlib.sha224(response).hexdigest() \n",
        "        time.sleep(8)\n",
        "        print(\"im trying now\") \n",
        "        response = urlopen(url).read() \n",
        "        newHash = hashlib.sha224(response).hexdigest() \n",
        "        if newHash == currentHash:\n",
        "            print(\"nothing changed trying again\", i)\n",
        "            i+=1\n",
        "            continue\n",
        "        else: \n",
        "            # notify \n",
        "            print(\"something changed\")\n",
        "            telegram_send.send(messages=[\"SOMETHING CHANGED go to \"+URLTOPASTE])\n",
        "            #PLAY SOUND WHEN THERE IS CHANGE WILL BE IMPLEMENTED\n",
        "            break\n",
        "    except Exception as e: \n",
        "        print(\"error\")\n"
      ],
      "execution_count": null,
      "outputs": []
    }
  ]
}