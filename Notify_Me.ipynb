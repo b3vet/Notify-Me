{
  "nbformat": 4,
  "nbformat_minor": 0,
  "metadata": {
    "colab": {
      "name": "Notify Me.ipynb",
      "provenance": [],
      "collapsed_sections": []
    },
    "kernelspec": {
      "name": "python3",
      "display_name": "Python 3"
    }
  },
  "cells": [
    {
      "cell_type": "markdown",
      "metadata": {
        "id": "BFLEvPqGuQzE"
      },
      "source": [
        "1) OPEN TELEGRAM APP\n",
        "\n",
        "2) SEARCH BotFather\n",
        "\n",
        "3) TYPE \"/newbot\" WITHOUT QUOTATION MARKS\n",
        "\n",
        "4) GIVE A NAME TO YOUR BOT\n",
        "\n",
        "5) IT WILL GIVE YOU A TOKEN YOU WILL NEED IT SAVE IT\n",
        "\n",
        "6) RUN THE FIRST CODE BLOCK\n",
        "\n",
        "7) IT WILL ASK FOR A TOKEN, IT IS THE ONE YOU JUST GOT, ENTER IT, IT WILL GIVE YOU A PASSWORD AFTER THAT\n",
        "\n",
        "8) AFTER ENTERING THE TOKEN, GO TO TELEGRAM AGAIN AND SEARCH FOR THE NAME OF YOUR BOT (LINKS DO NOT WORK IF YOU DO NOT HAVE TELEGRAM APP INSTALLED ON YOUR PC)\n",
        "\n",
        "9) START CHAT WITH YOUR BOT AND SEND THE GIVEN PASSWORD AS A MESSAGE"
      ]
    },
    {
      "cell_type": "code",
      "metadata": {
        "colab": {
          "base_uri": "https://localhost:8080/",
          "height": 779
        },
        "id": "8ZH5xd-5h9PL",
        "outputId": "c746b4ed-2e0d-49ca-e878-77cfdb5b457a"
      },
      "source": [
        "#HI I AM THE FIRST CODE BLOCK (MIGHT NEED TO RUN TWICE)\n",
        "!telegram-send --configure\n",
        "!pip install telegram-send\n",
        "\n",
        "import telegram_send\n",
        "telegram_send.send(messages=[\"Wow that was easy!\"])"
      ],
      "execution_count": null,
      "outputs": [
        {
          "output_type": "stream",
          "text": [
            "/bin/bash: telegram-send: command not found\n",
            "Collecting telegram-send\n",
            "  Downloading https://files.pythonhosted.org/packages/ab/85/07dae32dfbe1f9773ac1858f76fd6efc42a715963cd05655f7282e994e75/telegram_send-0.25-py2.py3-none-any.whl\n",
            "Collecting python-telegram-bot>=12.1.1\n",
            "\u001b[?25l  Downloading https://files.pythonhosted.org/packages/16/48/1673b175b878e1ddf6608814cfdc3a9b899cd1e13d4d00b37f2d6b5a0c45/python_telegram_bot-13.2-py3-none-any.whl (434kB)\n",
            "\u001b[K     |████████████████████████████████| 440kB 11.8MB/s \n",
            "\u001b[?25hCollecting colorama\n",
            "  Downloading https://files.pythonhosted.org/packages/44/98/5b86278fbbf250d239ae0ecb724f8572af1c91f4a11edf4d36a206189440/colorama-0.4.4-py2.py3-none-any.whl\n",
            "Requirement already satisfied: appdirs in /usr/local/lib/python3.6/dist-packages (from telegram-send) (1.4.4)\n",
            "Collecting cryptography\n",
            "\u001b[?25l  Downloading https://files.pythonhosted.org/packages/f8/1f/acde6ff69864c5e78b56488e3afd93c1ccc8c2651186e2a5f93d93f64859/cryptography-3.4.6-cp36-abi3-manylinux2014_x86_64.whl (3.2MB)\n",
            "\u001b[K     |████████████████████████████████| 3.2MB 17.3MB/s \n",
            "\u001b[?25hCollecting APScheduler==3.6.3\n",
            "\u001b[?25l  Downloading https://files.pythonhosted.org/packages/f3/34/9ef20ed473c4fd2c3df54ef77a27ae3fc7500b16b192add4720cab8b2c09/APScheduler-3.6.3-py2.py3-none-any.whl (58kB)\n",
            "\u001b[K     |████████████████████████████████| 61kB 7.1MB/s \n",
            "\u001b[?25hRequirement already satisfied: certifi in /usr/local/lib/python3.6/dist-packages (from python-telegram-bot>=12.1.1->telegram-send) (2020.12.5)\n",
            "Requirement already satisfied: tornado>=5.1 in /usr/local/lib/python3.6/dist-packages (from python-telegram-bot>=12.1.1->telegram-send) (5.1.1)\n",
            "Requirement already satisfied: pytz>=2018.6 in /usr/local/lib/python3.6/dist-packages (from python-telegram-bot>=12.1.1->telegram-send) (2018.9)\n",
            "Requirement already satisfied: cffi>=1.12 in /usr/local/lib/python3.6/dist-packages (from cryptography->python-telegram-bot>=12.1.1->telegram-send) (1.14.4)\n",
            "Requirement already satisfied: six>=1.4.0 in /usr/local/lib/python3.6/dist-packages (from APScheduler==3.6.3->python-telegram-bot>=12.1.1->telegram-send) (1.15.0)\n",
            "Requirement already satisfied: setuptools>=0.7 in /usr/local/lib/python3.6/dist-packages (from APScheduler==3.6.3->python-telegram-bot>=12.1.1->telegram-send) (53.0.0)\n",
            "Requirement already satisfied: tzlocal>=1.2 in /usr/local/lib/python3.6/dist-packages (from APScheduler==3.6.3->python-telegram-bot>=12.1.1->telegram-send) (1.5.1)\n",
            "Requirement already satisfied: pycparser in /usr/local/lib/python3.6/dist-packages (from cffi>=1.12->cryptography->python-telegram-bot>=12.1.1->telegram-send) (2.20)\n",
            "Installing collected packages: cryptography, APScheduler, python-telegram-bot, colorama, telegram-send\n",
            "Successfully installed APScheduler-3.6.3 colorama-0.4.4 cryptography-3.4.6 python-telegram-bot-13.2 telegram-send-0.25\n"
          ],
          "name": "stdout"
        },
        {
          "output_type": "error",
          "ename": "ConfigError",
          "evalue": "ignored",
          "traceback": [
            "\u001b[0;31m---------------------------------------------------------------------------\u001b[0m",
            "\u001b[0;31mConfigError\u001b[0m                               Traceback (most recent call last)",
            "\u001b[0;32m<ipython-input-1-b0949a9d1194>\u001b[0m in \u001b[0;36m<module>\u001b[0;34m()\u001b[0m\n\u001b[1;32m      4\u001b[0m \u001b[0;34m\u001b[0m\u001b[0m\n\u001b[1;32m      5\u001b[0m \u001b[0;32mimport\u001b[0m \u001b[0mtelegram_send\u001b[0m\u001b[0;34m\u001b[0m\u001b[0;34m\u001b[0m\u001b[0m\n\u001b[0;32m----> 6\u001b[0;31m \u001b[0mtelegram_send\u001b[0m\u001b[0;34m.\u001b[0m\u001b[0msend\u001b[0m\u001b[0;34m(\u001b[0m\u001b[0mmessages\u001b[0m\u001b[0;34m=\u001b[0m\u001b[0;34m[\u001b[0m\u001b[0;34m\"Wow that was easy!\"\u001b[0m\u001b[0;34m]\u001b[0m\u001b[0;34m)\u001b[0m\u001b[0;34m\u001b[0m\u001b[0;34m\u001b[0m\u001b[0m\n\u001b[0m",
            "\u001b[0;32m/usr/local/lib/python3.6/dist-packages/telegram_send.py\u001b[0m in \u001b[0;36msend\u001b[0;34m(messages, files, images, stickers, animations, videos, audios, captions, locations, conf, parse_mode, silent, disable_web_page_preview, timeout)\u001b[0m\n\u001b[1;32m    186\u001b[0m     \u001b[0mconfig\u001b[0m \u001b[0;34m=\u001b[0m \u001b[0mconfigparser\u001b[0m\u001b[0;34m.\u001b[0m\u001b[0mConfigParser\u001b[0m\u001b[0;34m(\u001b[0m\u001b[0;34m)\u001b[0m\u001b[0;34m\u001b[0m\u001b[0;34m\u001b[0m\u001b[0m\n\u001b[1;32m    187\u001b[0m     \u001b[0;32mif\u001b[0m \u001b[0;32mnot\u001b[0m \u001b[0mconfig\u001b[0m\u001b[0;34m.\u001b[0m\u001b[0mread\u001b[0m\u001b[0;34m(\u001b[0m\u001b[0mconf\u001b[0m\u001b[0;34m)\u001b[0m \u001b[0;32mor\u001b[0m \u001b[0;32mnot\u001b[0m \u001b[0mconfig\u001b[0m\u001b[0;34m.\u001b[0m\u001b[0mhas_section\u001b[0m\u001b[0;34m(\u001b[0m\u001b[0;34m\"telegram\"\u001b[0m\u001b[0;34m)\u001b[0m\u001b[0;34m:\u001b[0m\u001b[0;34m\u001b[0m\u001b[0;34m\u001b[0m\u001b[0m\n\u001b[0;32m--> 188\u001b[0;31m         \u001b[0;32mraise\u001b[0m \u001b[0mConfigError\u001b[0m\u001b[0;34m(\u001b[0m\u001b[0;34m\"Config not found\"\u001b[0m\u001b[0;34m)\u001b[0m\u001b[0;34m\u001b[0m\u001b[0;34m\u001b[0m\u001b[0m\n\u001b[0m\u001b[1;32m    189\u001b[0m     \u001b[0mmissing_options\u001b[0m \u001b[0;34m=\u001b[0m \u001b[0mset\u001b[0m\u001b[0;34m(\u001b[0m\u001b[0;34m[\u001b[0m\u001b[0;34m\"token\"\u001b[0m\u001b[0;34m,\u001b[0m \u001b[0;34m\"chat_id\"\u001b[0m\u001b[0;34m]\u001b[0m\u001b[0;34m)\u001b[0m \u001b[0;34m-\u001b[0m \u001b[0mset\u001b[0m\u001b[0;34m(\u001b[0m\u001b[0mconfig\u001b[0m\u001b[0;34m.\u001b[0m\u001b[0moptions\u001b[0m\u001b[0;34m(\u001b[0m\u001b[0;34m\"telegram\"\u001b[0m\u001b[0;34m)\u001b[0m\u001b[0;34m)\u001b[0m\u001b[0;34m\u001b[0m\u001b[0;34m\u001b[0m\u001b[0m\n\u001b[1;32m    190\u001b[0m     \u001b[0;32mif\u001b[0m \u001b[0mlen\u001b[0m\u001b[0;34m(\u001b[0m\u001b[0mmissing_options\u001b[0m\u001b[0;34m)\u001b[0m \u001b[0;34m>\u001b[0m \u001b[0;36m0\u001b[0m\u001b[0;34m:\u001b[0m\u001b[0;34m\u001b[0m\u001b[0;34m\u001b[0m\u001b[0m\n",
            "\u001b[0;31mConfigError\u001b[0m: Config not found"
          ]
        }
      ]
    },
    {
      "cell_type": "markdown",
      "metadata": {
        "id": "GgnvMkOwv0mx"
      },
      "source": [
        "10) NOW GO TO THIS LINK BUT COPY AND PASTE YOUR BOT TOKEN IN PLACE OF \n",
        "\"-YOURBOTTOKEN-\" (THERE SHOULD NOT BE ANY HYPENS AFRER PASTING) https://api.telegram.org/bot-YOURBOTTOKEN-/getUpdates\n",
        "\n",
        "11) IT IS BASICLY A JSON FILE. THERE WILL BE SOMETHING LIKE \"chat\": {\"id\": somenumbers, .... COPY THAT SOME NUMBERS THAT IS YOUR CHAT ID WITH YOUR BOT\n",
        "\n",
        "12)COPY AND PASTE THE REQUIRED VALUES IN THE REQUIRED PLACES IN THE SECOND CODE BLOCK AND RUN IT"
      ]
    },
    {
      "cell_type": "code",
      "metadata": {
        "id": "tyLvaKenkAXy"
      },
      "source": [
        "#I AM SECOND CODE BLOCK\n",
        "import telegram_send\n",
        "telegram_token = '' #COPY AND PASTE YOUR TOKEN IN HERE\n",
        "chat_id = '' #COPY AND PASTE YOUR CHAT ID HERE\n",
        "path_config = telegram_send.get_config_path()\n",
        "with open(path_config, 'w') as f:\n",
        "    f.write(f'[telegram]\\ntoken = {telegram_token}\\nchat_id = {chat_id}')\n",
        "telegram_send.send(messages=[\"Telegram bot synced!\"])"
      ],
      "execution_count": null,
      "outputs": []
    },
    {
      "cell_type": "markdown",
      "metadata": {
        "id": "E494EsUdw8Hr"
      },
      "source": [
        "13) GO TO SUCHEDULE AND GET THE DETAILED VIEW PAGE OF YOUR COURSE (BY CLICKING INFO BUTTON ON THE LEFT COURSE CHOOSING PANEL)\n",
        "\n",
        "14)COPY THE LINK OF THAT DETAILED VIEW PAGE (THE ONLY THING THAT CHANGES WHEN THERE IS AN EMPTY SPACE IN COURSE IS REMAINING AND ACTUAL VALUES)\n",
        "\n",
        "THIS SCRIPT READS THE WHOLE PAGE AND CREATES A HASH VALUE FOR IT IN EVERY 8 SECONDS AND CHECKS IF THE LAST HASHED VALUE IS EQUAL TO THE NEW ONE (SINCE IT READS A STATIC HTML TO HASH IF REMAINING AND ACTUAL VALUES CHANGE, THE STATIC HTML FILE THE SCRIPT WILL READ WILL CHANGE), IF NOT IT WILL SEND YOU A MESSAGE FROM TELEGRAM THAT THERE IS A CHANGE\n",
        "\n",
        "15)PASTE YOUR DETAILED VIEW LINK IN THE THIRD CODE BLOCK WHERE IT SAYS PASTE STUFF HERE\n",
        "\n",
        "16) RUN THE THIRD CODE BLOCK AND DO NOT LET YOUR COMPUTER SLEEP\n",
        "\n",
        "NOW YOU CAN GO ANYWHERE YOU WANT WHILE THE CODE IS RUNNING AND YOU WILL BE NOTIFIED WHENEVER THERE IS PLACE AVAILABLE IN YOUR COURSE"
      ]
    },
    {
      "cell_type": "code",
      "metadata": {
        "id": "4HhTki6mjoh9"
      },
      "source": [
        "# -*- coding: utf-8 -*-\n",
        "#THIRD CODE BLOCK\n",
        "import time \n",
        "import hashlib \n",
        "from urllib.request import urlopen, Request\n",
        "# setting the URL you want to monitor \n",
        "#https://suis.sabanciuniv.edu/prod/bwckschd.p_disp_detail_sched?term_in=202002&crn_in=20750\n",
        "#\n",
        "\n",
        "################################ READ THIS TO PASTE STUFF HERE #####################################################\n",
        "#PASTE THE LINK YOU GET FOR DETAILED VIEW PAGE OF THE COURSE IN THE EMPTY SPACE BETWEEN '' IN REQUEST('', ... DOWN BELOW\n",
        "####################################################################################################################\n",
        "url = Request('https://suis.sabanciuniv.edu/prod/bwckschd.p_disp_detail_sched?term_in=202002&crn_in=20750',  \n",
        "              headers={'User-Agent': 'Mozilla/5.0'}) \n",
        "  \n",
        "# to perform a GET request and load the  \n",
        "# content of the website and store it in a var \n",
        "response = urlopen(url).read() \n",
        "  \n",
        "# to create the initial hash \n",
        "currentHash = hashlib.sha224(response).hexdigest() \n",
        "print(\"running\") \n",
        "time.sleep(8)\n",
        "i = 0;\n",
        "while True: \n",
        "    try: \n",
        "        # perform the get request and store it in a var \n",
        "        response = urlopen(url).read() \n",
        "          \n",
        "        # create a hash \n",
        "        currentHash = hashlib.sha224(response).hexdigest() \n",
        "          \n",
        "        # wait for 8 seconds \n",
        "        time.sleep(8)\n",
        "        print(\"im trying now\")\n",
        "        # perform the get request \n",
        "        response = urlopen(url).read() \n",
        "          \n",
        "        # create a new hash \n",
        "        newHash = hashlib.sha224(response).hexdigest() \n",
        "  \n",
        "        # check if new hash is same as the previous hash \n",
        "        if newHash == currentHash:\n",
        "            print(\"nothing changed trying again\", i)\n",
        "            i+=1\n",
        "            continue\n",
        "            \n",
        "  \n",
        "        # if something changed in the hashes \n",
        "        else: \n",
        "            # notify \n",
        "            print(\"something changed\")\n",
        "            telegram_send.send(messages=[\"SOMETHING CHANGED go to http://bannerweb.sabanciuniv.edu\"])\n",
        "\n",
        "            #x, sr = librosa.load('alarm.wav') \n",
        "            #ipd.Audio(x, rate=sr, autoplay = True)\n",
        "            #Audio(url=\"http://www.nch.com.au/acm/8k16bitpcm.wav\", autoplay=True)\n",
        "            #output.eval_js('new Audio(\"https://upload.wikimedia.org/wikipedia/commons/0/05/Beep-09.ogg\").play()')\n",
        "            break\n",
        "\n",
        "              \n",
        "    # To handle exceptions \n",
        "    except Exception as e: \n",
        "        print(\"error\")\n"
      ],
      "execution_count": null,
      "outputs": []
    }
  ]
}